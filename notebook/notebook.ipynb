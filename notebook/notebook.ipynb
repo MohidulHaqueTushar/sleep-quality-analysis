{
 "cells": [
  {
   "cell_type": "code",
   "execution_count": 1,
   "id": "a622f61f-54d5-468a-83b6-41f0ff404278",
   "metadata": {
    "executionCancelledAt": null,
    "executionTime": 26,
    "lastExecutedAt": 1756298766546,
    "lastExecutedByKernel": "59cb6d7c-514b-4a13-b350-11aa65356907",
    "lastScheduledRunId": null,
    "lastSuccessfullyExecutedCode": "# Start coding here\n# Use as many cells as you need\nimport pandas as pd\n# Read in the data \nsleep_df = pd.read_csv(\"sleep_health_data.csv\")\n\n# 1. Which occupation has the lowest average sleep duration? Save this in a string variable called `lowest_sleep_occ`.\n\n# Groupby occupation and calculate mean sleep duration \nsleep_duration = sleep_df.groupby('Occupation')['Sleep Duration'].mean()\n# Get occupation with lowest average sleep duration\nlowest_sleep_occ = sleep_duration.sort_values().index[0]\n\n# 2. Which occupation had the lowest quality of on average? Did the occupation with the lowest sleep duration also have the worst sleep quality?\n\n# Groupby occupation and calculate average sleep quality\nsleep_quality = sleep_df.groupby('Occupation')['Quality of Sleep'].mean()  \n# Get occupation with lowest average sleep quality \nlowest_sleep_quality_occ = sleep_quality.sort_values().index[0]\n\n# Compare occupation with the least sleep to occupation with the lowest sleep quality\nif lowest_sleep_occ == lowest_sleep_quality_occ:\n  same_occ = True\nelse:\n  same_occ = False\n  \n# 3. Let's explore how BMI Category can affect sleep disorder rates. Start by finding what ratio of app users in each BMI category have been diagnosed with Insomnia.\n\n# Normal\n# Filter the full dataframe to only rows where BMI Category is Normal and Sleep Disorder is Insomnia.\nnormal = sleep_df[(sleep_df[\"BMI Category\"] == \"Normal\") &  \n                  (sleep_df[\"Sleep Disorder\"] == \"Insomnia\")]\nnormal2 = sleep_df[(sleep_df[\"BMI Category\"] == \"Normal Weight\") &  \n                  (sleep_df[\"Sleep Disorder\"] == \"Insomnia\")]\n# Total normal rows               \ntotal_normal = len(sleep_df[sleep_df[\"BMI Category\"] == \"Normal\"])  \n# Calculate normal insomnia ratio               \nnormal_insomnia_ratio = round(len(normal) / total_normal, 2) \n\n\n# Overweight\n# Filter the full dataframe to only rows where BMI Category is Overweight and Sleep Disorder is Insomnia.\noverweight = sleep_df[(sleep_df[\"BMI Category\"] == \"Overweight\") &   \n                      (sleep_df[\"Sleep Disorder\"] == \"Insomnia\")]  \n# Total overweight rows\ntotal_overweight = len(sleep_df[sleep_df[\"BMI Category\"] == \"Overweight\"])  \n# Calculate overweight insomnia ratio \noverweight_insomnia_ratio = round(len(overweight) / total_overweight, 2)\n\n\n# Obese\n# Filter the full dataframe to only rows where BMI Category is Obese and Sleep Disorder is Insomnia.\nobese = sleep_df[(sleep_df[\"BMI Category\"] == \"Obese\") &  \n                  (sleep_df[\"Sleep Disorder\"] == \"Insomnia\")]\n# Total obese rows          \ntotal_obese = len(sleep_df[sleep_df[\"BMI Category\"] == \"Obese\"])  \n# Calculate obese insomnia ratio\nobese_insomnia_ratio = round(len(obese) / total_obese, 2)\n\n\n# Create dictionary to store the ratios for each BMI category \nbmi_insomnia_ratios = {\n    \"Normal\": normal_insomnia_ratio,  \n    \"Overweight\": overweight_insomnia_ratio,\n    \"Obese\": obese_insomnia_ratio \n}\nprint(\"done\")"
   },
   "outputs": [],
   "source": [
    "# import modules\n",
    "import pandas as pd"
   ]
  },
  {
   "cell_type": "code",
   "execution_count": 2,
   "id": "7bab7e7b",
   "metadata": {},
   "outputs": [
    {
     "data": {
      "application/vnd.microsoft.datawrangler.viewer.v0+json": {
       "columns": [
        {
         "name": "index",
         "rawType": "int64",
         "type": "integer"
        },
        {
         "name": "Person ID",
         "rawType": "int64",
         "type": "integer"
        },
        {
         "name": "Gender",
         "rawType": "object",
         "type": "string"
        },
        {
         "name": "Age",
         "rawType": "int64",
         "type": "integer"
        },
        {
         "name": "Occupation",
         "rawType": "object",
         "type": "string"
        },
        {
         "name": "Sleep Duration",
         "rawType": "float64",
         "type": "float"
        },
        {
         "name": "Quality of Sleep",
         "rawType": "int64",
         "type": "integer"
        },
        {
         "name": "Physical Activity Level",
         "rawType": "int64",
         "type": "integer"
        },
        {
         "name": "Stress Level",
         "rawType": "int64",
         "type": "integer"
        },
        {
         "name": "BMI Category",
         "rawType": "object",
         "type": "string"
        },
        {
         "name": "Blood Pressure",
         "rawType": "object",
         "type": "string"
        },
        {
         "name": "Heart Rate",
         "rawType": "int64",
         "type": "integer"
        },
        {
         "name": "Daily Steps",
         "rawType": "int64",
         "type": "integer"
        },
        {
         "name": "Sleep Disorder",
         "rawType": "object",
         "type": "unknown"
        }
       ],
       "ref": "8048fa0a-5bb8-42a2-bfc5-c82b10c6aaa2",
       "rows": [
        [
         "0",
         "1",
         "Male",
         "27",
         "Software Engineer",
         "6.1",
         "6",
         "42",
         "6",
         "Overweight",
         "126/83",
         "77",
         "4200",
         null
        ],
        [
         "1",
         "2",
         "Male",
         "28",
         "Doctor",
         "6.2",
         "6",
         "60",
         "8",
         "Normal",
         "125/80",
         "75",
         "10000",
         null
        ],
        [
         "2",
         "3",
         "Male",
         "28",
         "Doctor",
         "6.2",
         "6",
         "60",
         "8",
         "Normal",
         "125/80",
         "75",
         "10000",
         null
        ],
        [
         "3",
         "4",
         "Male",
         "28",
         "Sales Representative",
         "5.9",
         "4",
         "30",
         "8",
         "Obese",
         "140/90",
         "85",
         "3000",
         "Sleep Apnea"
        ],
        [
         "4",
         "5",
         "Male",
         "28",
         "Sales Representative",
         "5.9",
         "4",
         "30",
         "8",
         "Obese",
         "140/90",
         "85",
         "3000",
         "Sleep Apnea"
        ]
       ],
       "shape": {
        "columns": 13,
        "rows": 5
       }
      },
      "text/html": [
       "<div>\n",
       "<style scoped>\n",
       "    .dataframe tbody tr th:only-of-type {\n",
       "        vertical-align: middle;\n",
       "    }\n",
       "\n",
       "    .dataframe tbody tr th {\n",
       "        vertical-align: top;\n",
       "    }\n",
       "\n",
       "    .dataframe thead th {\n",
       "        text-align: right;\n",
       "    }\n",
       "</style>\n",
       "<table border=\"1\" class=\"dataframe\">\n",
       "  <thead>\n",
       "    <tr style=\"text-align: right;\">\n",
       "      <th></th>\n",
       "      <th>Person ID</th>\n",
       "      <th>Gender</th>\n",
       "      <th>Age</th>\n",
       "      <th>Occupation</th>\n",
       "      <th>Sleep Duration</th>\n",
       "      <th>Quality of Sleep</th>\n",
       "      <th>Physical Activity Level</th>\n",
       "      <th>Stress Level</th>\n",
       "      <th>BMI Category</th>\n",
       "      <th>Blood Pressure</th>\n",
       "      <th>Heart Rate</th>\n",
       "      <th>Daily Steps</th>\n",
       "      <th>Sleep Disorder</th>\n",
       "    </tr>\n",
       "  </thead>\n",
       "  <tbody>\n",
       "    <tr>\n",
       "      <th>0</th>\n",
       "      <td>1</td>\n",
       "      <td>Male</td>\n",
       "      <td>27</td>\n",
       "      <td>Software Engineer</td>\n",
       "      <td>6.1</td>\n",
       "      <td>6</td>\n",
       "      <td>42</td>\n",
       "      <td>6</td>\n",
       "      <td>Overweight</td>\n",
       "      <td>126/83</td>\n",
       "      <td>77</td>\n",
       "      <td>4200</td>\n",
       "      <td>NaN</td>\n",
       "    </tr>\n",
       "    <tr>\n",
       "      <th>1</th>\n",
       "      <td>2</td>\n",
       "      <td>Male</td>\n",
       "      <td>28</td>\n",
       "      <td>Doctor</td>\n",
       "      <td>6.2</td>\n",
       "      <td>6</td>\n",
       "      <td>60</td>\n",
       "      <td>8</td>\n",
       "      <td>Normal</td>\n",
       "      <td>125/80</td>\n",
       "      <td>75</td>\n",
       "      <td>10000</td>\n",
       "      <td>NaN</td>\n",
       "    </tr>\n",
       "    <tr>\n",
       "      <th>2</th>\n",
       "      <td>3</td>\n",
       "      <td>Male</td>\n",
       "      <td>28</td>\n",
       "      <td>Doctor</td>\n",
       "      <td>6.2</td>\n",
       "      <td>6</td>\n",
       "      <td>60</td>\n",
       "      <td>8</td>\n",
       "      <td>Normal</td>\n",
       "      <td>125/80</td>\n",
       "      <td>75</td>\n",
       "      <td>10000</td>\n",
       "      <td>NaN</td>\n",
       "    </tr>\n",
       "    <tr>\n",
       "      <th>3</th>\n",
       "      <td>4</td>\n",
       "      <td>Male</td>\n",
       "      <td>28</td>\n",
       "      <td>Sales Representative</td>\n",
       "      <td>5.9</td>\n",
       "      <td>4</td>\n",
       "      <td>30</td>\n",
       "      <td>8</td>\n",
       "      <td>Obese</td>\n",
       "      <td>140/90</td>\n",
       "      <td>85</td>\n",
       "      <td>3000</td>\n",
       "      <td>Sleep Apnea</td>\n",
       "    </tr>\n",
       "    <tr>\n",
       "      <th>4</th>\n",
       "      <td>5</td>\n",
       "      <td>Male</td>\n",
       "      <td>28</td>\n",
       "      <td>Sales Representative</td>\n",
       "      <td>5.9</td>\n",
       "      <td>4</td>\n",
       "      <td>30</td>\n",
       "      <td>8</td>\n",
       "      <td>Obese</td>\n",
       "      <td>140/90</td>\n",
       "      <td>85</td>\n",
       "      <td>3000</td>\n",
       "      <td>Sleep Apnea</td>\n",
       "    </tr>\n",
       "  </tbody>\n",
       "</table>\n",
       "</div>"
      ],
      "text/plain": [
       "   Person ID Gender  Age            Occupation  Sleep Duration  \\\n",
       "0          1   Male   27     Software Engineer             6.1   \n",
       "1          2   Male   28                Doctor             6.2   \n",
       "2          3   Male   28                Doctor             6.2   \n",
       "3          4   Male   28  Sales Representative             5.9   \n",
       "4          5   Male   28  Sales Representative             5.9   \n",
       "\n",
       "   Quality of Sleep  Physical Activity Level  Stress Level BMI Category  \\\n",
       "0                 6                       42             6   Overweight   \n",
       "1                 6                       60             8       Normal   \n",
       "2                 6                       60             8       Normal   \n",
       "3                 4                       30             8        Obese   \n",
       "4                 4                       30             8        Obese   \n",
       "\n",
       "  Blood Pressure  Heart Rate  Daily Steps Sleep Disorder  \n",
       "0         126/83          77         4200            NaN  \n",
       "1         125/80          75        10000            NaN  \n",
       "2         125/80          75        10000            NaN  \n",
       "3         140/90          85         3000    Sleep Apnea  \n",
       "4         140/90          85         3000    Sleep Apnea  "
      ]
     },
     "execution_count": 2,
     "metadata": {},
     "output_type": "execute_result"
    }
   ],
   "source": [
    "# Read in the data \n",
    "sleep_df = pd.read_csv(\"../data/sleep_health_data.csv\")\n",
    "sleep_df.head()"
   ]
  },
  {
   "cell_type": "code",
   "execution_count": 3,
   "id": "e1bc300b",
   "metadata": {},
   "outputs": [
    {
     "name": "stdout",
     "output_type": "stream",
     "text": [
      "<class 'pandas.core.frame.DataFrame'>\n",
      "RangeIndex: 374 entries, 0 to 373\n",
      "Data columns (total 13 columns):\n",
      " #   Column                   Non-Null Count  Dtype  \n",
      "---  ------                   --------------  -----  \n",
      " 0   Person ID                374 non-null    int64  \n",
      " 1   Gender                   374 non-null    object \n",
      " 2   Age                      374 non-null    int64  \n",
      " 3   Occupation               374 non-null    object \n",
      " 4   Sleep Duration           374 non-null    float64\n",
      " 5   Quality of Sleep         374 non-null    int64  \n",
      " 6   Physical Activity Level  374 non-null    int64  \n",
      " 7   Stress Level             374 non-null    int64  \n",
      " 8   BMI Category             374 non-null    object \n",
      " 9   Blood Pressure           374 non-null    object \n",
      " 10  Heart Rate               374 non-null    int64  \n",
      " 11  Daily Steps              374 non-null    int64  \n",
      " 12  Sleep Disorder           155 non-null    object \n",
      "dtypes: float64(1), int64(7), object(5)\n",
      "memory usage: 38.1+ KB\n"
     ]
    }
   ],
   "source": [
    "# Check the data infos\n",
    "sleep_df.info()"
   ]
  },
  {
   "cell_type": "code",
   "execution_count": 4,
   "id": "fe5070e4",
   "metadata": {},
   "outputs": [
    {
     "data": {
      "text/plain": [
       "(374, 13)"
      ]
     },
     "execution_count": 4,
     "metadata": {},
     "output_type": "execute_result"
    }
   ],
   "source": [
    "# dimensions of the data\n",
    "sleep_df.shape"
   ]
  },
  {
   "cell_type": "code",
   "execution_count": 5,
   "id": "5425cff8",
   "metadata": {},
   "outputs": [
    {
     "data": {
      "application/vnd.microsoft.datawrangler.viewer.v0+json": {
       "columns": [
        {
         "name": "index",
         "rawType": "object",
         "type": "string"
        },
        {
         "name": "Person ID",
         "rawType": "float64",
         "type": "float"
        },
        {
         "name": "Age",
         "rawType": "float64",
         "type": "float"
        },
        {
         "name": "Sleep Duration",
         "rawType": "float64",
         "type": "float"
        },
        {
         "name": "Quality of Sleep",
         "rawType": "float64",
         "type": "float"
        },
        {
         "name": "Physical Activity Level",
         "rawType": "float64",
         "type": "float"
        },
        {
         "name": "Stress Level",
         "rawType": "float64",
         "type": "float"
        },
        {
         "name": "Heart Rate",
         "rawType": "float64",
         "type": "float"
        },
        {
         "name": "Daily Steps",
         "rawType": "float64",
         "type": "float"
        }
       ],
       "ref": "3c3d32dc-6521-4532-930d-1764527ab072",
       "rows": [
        [
         "count",
         "374.0",
         "374.0",
         "374.0",
         "374.0",
         "374.0",
         "374.0",
         "374.0",
         "374.0"
        ],
        [
         "mean",
         "187.5",
         "42.18449197860963",
         "7.132085561497325",
         "7.31283422459893",
         "59.17112299465241",
         "5.385026737967914",
         "70.16577540106952",
         "6816.844919786096"
        ],
        [
         "std",
         "108.10874155219827",
         "8.67313346554724",
         "0.7956567308898188",
         "1.1969559197336044",
         "20.830803658071673",
         "1.7745264441985167",
         "4.135675535112214",
         "1617.915679133637"
        ],
        [
         "min",
         "1.0",
         "27.0",
         "5.8",
         "4.0",
         "30.0",
         "3.0",
         "65.0",
         "3000.0"
        ],
        [
         "25%",
         "94.25",
         "35.25",
         "6.4",
         "6.0",
         "45.0",
         "4.0",
         "68.0",
         "5600.0"
        ],
        [
         "50%",
         "187.5",
         "43.0",
         "7.2",
         "7.0",
         "60.0",
         "5.0",
         "70.0",
         "7000.0"
        ],
        [
         "75%",
         "280.75",
         "50.0",
         "7.8",
         "8.0",
         "75.0",
         "7.0",
         "72.0",
         "8000.0"
        ],
        [
         "max",
         "374.0",
         "59.0",
         "8.5",
         "9.0",
         "90.0",
         "8.0",
         "86.0",
         "10000.0"
        ]
       ],
       "shape": {
        "columns": 8,
        "rows": 8
       }
      },
      "text/html": [
       "<div>\n",
       "<style scoped>\n",
       "    .dataframe tbody tr th:only-of-type {\n",
       "        vertical-align: middle;\n",
       "    }\n",
       "\n",
       "    .dataframe tbody tr th {\n",
       "        vertical-align: top;\n",
       "    }\n",
       "\n",
       "    .dataframe thead th {\n",
       "        text-align: right;\n",
       "    }\n",
       "</style>\n",
       "<table border=\"1\" class=\"dataframe\">\n",
       "  <thead>\n",
       "    <tr style=\"text-align: right;\">\n",
       "      <th></th>\n",
       "      <th>Person ID</th>\n",
       "      <th>Age</th>\n",
       "      <th>Sleep Duration</th>\n",
       "      <th>Quality of Sleep</th>\n",
       "      <th>Physical Activity Level</th>\n",
       "      <th>Stress Level</th>\n",
       "      <th>Heart Rate</th>\n",
       "      <th>Daily Steps</th>\n",
       "    </tr>\n",
       "  </thead>\n",
       "  <tbody>\n",
       "    <tr>\n",
       "      <th>count</th>\n",
       "      <td>374.000000</td>\n",
       "      <td>374.000000</td>\n",
       "      <td>374.000000</td>\n",
       "      <td>374.000000</td>\n",
       "      <td>374.000000</td>\n",
       "      <td>374.000000</td>\n",
       "      <td>374.000000</td>\n",
       "      <td>374.000000</td>\n",
       "    </tr>\n",
       "    <tr>\n",
       "      <th>mean</th>\n",
       "      <td>187.500000</td>\n",
       "      <td>42.184492</td>\n",
       "      <td>7.132086</td>\n",
       "      <td>7.312834</td>\n",
       "      <td>59.171123</td>\n",
       "      <td>5.385027</td>\n",
       "      <td>70.165775</td>\n",
       "      <td>6816.844920</td>\n",
       "    </tr>\n",
       "    <tr>\n",
       "      <th>std</th>\n",
       "      <td>108.108742</td>\n",
       "      <td>8.673133</td>\n",
       "      <td>0.795657</td>\n",
       "      <td>1.196956</td>\n",
       "      <td>20.830804</td>\n",
       "      <td>1.774526</td>\n",
       "      <td>4.135676</td>\n",
       "      <td>1617.915679</td>\n",
       "    </tr>\n",
       "    <tr>\n",
       "      <th>min</th>\n",
       "      <td>1.000000</td>\n",
       "      <td>27.000000</td>\n",
       "      <td>5.800000</td>\n",
       "      <td>4.000000</td>\n",
       "      <td>30.000000</td>\n",
       "      <td>3.000000</td>\n",
       "      <td>65.000000</td>\n",
       "      <td>3000.000000</td>\n",
       "    </tr>\n",
       "    <tr>\n",
       "      <th>25%</th>\n",
       "      <td>94.250000</td>\n",
       "      <td>35.250000</td>\n",
       "      <td>6.400000</td>\n",
       "      <td>6.000000</td>\n",
       "      <td>45.000000</td>\n",
       "      <td>4.000000</td>\n",
       "      <td>68.000000</td>\n",
       "      <td>5600.000000</td>\n",
       "    </tr>\n",
       "    <tr>\n",
       "      <th>50%</th>\n",
       "      <td>187.500000</td>\n",
       "      <td>43.000000</td>\n",
       "      <td>7.200000</td>\n",
       "      <td>7.000000</td>\n",
       "      <td>60.000000</td>\n",
       "      <td>5.000000</td>\n",
       "      <td>70.000000</td>\n",
       "      <td>7000.000000</td>\n",
       "    </tr>\n",
       "    <tr>\n",
       "      <th>75%</th>\n",
       "      <td>280.750000</td>\n",
       "      <td>50.000000</td>\n",
       "      <td>7.800000</td>\n",
       "      <td>8.000000</td>\n",
       "      <td>75.000000</td>\n",
       "      <td>7.000000</td>\n",
       "      <td>72.000000</td>\n",
       "      <td>8000.000000</td>\n",
       "    </tr>\n",
       "    <tr>\n",
       "      <th>max</th>\n",
       "      <td>374.000000</td>\n",
       "      <td>59.000000</td>\n",
       "      <td>8.500000</td>\n",
       "      <td>9.000000</td>\n",
       "      <td>90.000000</td>\n",
       "      <td>8.000000</td>\n",
       "      <td>86.000000</td>\n",
       "      <td>10000.000000</td>\n",
       "    </tr>\n",
       "  </tbody>\n",
       "</table>\n",
       "</div>"
      ],
      "text/plain": [
       "        Person ID         Age  Sleep Duration  Quality of Sleep  \\\n",
       "count  374.000000  374.000000      374.000000        374.000000   \n",
       "mean   187.500000   42.184492        7.132086          7.312834   \n",
       "std    108.108742    8.673133        0.795657          1.196956   \n",
       "min      1.000000   27.000000        5.800000          4.000000   \n",
       "25%     94.250000   35.250000        6.400000          6.000000   \n",
       "50%    187.500000   43.000000        7.200000          7.000000   \n",
       "75%    280.750000   50.000000        7.800000          8.000000   \n",
       "max    374.000000   59.000000        8.500000          9.000000   \n",
       "\n",
       "       Physical Activity Level  Stress Level  Heart Rate   Daily Steps  \n",
       "count               374.000000    374.000000  374.000000    374.000000  \n",
       "mean                 59.171123      5.385027   70.165775   6816.844920  \n",
       "std                  20.830804      1.774526    4.135676   1617.915679  \n",
       "min                  30.000000      3.000000   65.000000   3000.000000  \n",
       "25%                  45.000000      4.000000   68.000000   5600.000000  \n",
       "50%                  60.000000      5.000000   70.000000   7000.000000  \n",
       "75%                  75.000000      7.000000   72.000000   8000.000000  \n",
       "max                  90.000000      8.000000   86.000000  10000.000000  "
      ]
     },
     "execution_count": 5,
     "metadata": {},
     "output_type": "execute_result"
    }
   ],
   "source": [
    "# describe the data\n",
    "sleep_df.describe()"
   ]
  },
  {
   "cell_type": "markdown",
   "id": "2d4d7bc9",
   "metadata": {},
   "source": [
    "## Inquery"
   ]
  },
  {
   "cell_type": "code",
   "execution_count": 6,
   "id": "9d80e53e",
   "metadata": {},
   "outputs": [],
   "source": [
    "# Which occupation has the lowest average sleep duration? \n",
    "# Save this in a string variable called `lowest_sleep_occ`.\n",
    "\n",
    "# Groupby occupation and calculate mean sleep duration \n",
    "sleep_duration = sleep_df.groupby('Occupation')['Sleep Duration'].mean()\n",
    "# Get occupation with lowest average sleep duration\n",
    "lowest_sleep_occ = sleep_duration.sort_values().index[0]"
   ]
  },
  {
   "cell_type": "code",
   "execution_count": 7,
   "id": "76b66660",
   "metadata": {},
   "outputs": [
    {
     "name": "stdout",
     "output_type": "stream",
     "text": [
      " Occupation with the lowest average sleep duration is: Sales Representative\n"
     ]
    }
   ],
   "source": [
    "print(f\" Occupation with the lowest average sleep duration is: {lowest_sleep_occ}\")"
   ]
  },
  {
   "cell_type": "code",
   "execution_count": 8,
   "id": "18636dc2",
   "metadata": {},
   "outputs": [],
   "source": [
    "# Which occupation had the lowest quality of sleep on average? \n",
    "# Did the occupation with the lowest sleep duration also have the worst sleep quality?\n",
    "\n",
    "# Groupby occupation and calculate average sleep quality\n",
    "sleep_quality = sleep_df.groupby('Occupation')['Quality of Sleep'].mean()  \n",
    "# Get occupation with lowest average sleep quality \n",
    "lowest_sleep_quality_occ = sleep_quality.sort_values().index[0]\n",
    "\n",
    "# Compare occupation with the least sleep to occupation with the lowest sleep quality\n",
    "if lowest_sleep_occ == lowest_sleep_quality_occ:\n",
    "  same_occ = True\n",
    "else:\n",
    "  same_occ = False"
   ]
  },
  {
   "cell_type": "code",
   "execution_count": 9,
   "id": "1fef5726",
   "metadata": {},
   "outputs": [
    {
     "name": "stdout",
     "output_type": "stream",
     "text": [
      "Lowest average sleep quality:  Sales Representative\n"
     ]
    }
   ],
   "source": [
    "print(\"Lowest average sleep quality: \", format(lowest_sleep_quality_occ))"
   ]
  },
  {
   "cell_type": "code",
   "execution_count": 10,
   "id": "9b4297e3",
   "metadata": {},
   "outputs": [],
   "source": [
    "# Let's explore how BMI Category can affect sleep disorder rates. \n",
    "# Start by finding what ratio of app users in each BMI category have been diagnosed with Insomnia.\n",
    "\n",
    "# Normal\n",
    "# Filter the full dataframe to only rows where BMI Category is Normal and Sleep Disorder is Insomnia.\n",
    "normal = sleep_df[(sleep_df[\"BMI Category\"] == \"Normal\") &  \n",
    "                  (sleep_df[\"Sleep Disorder\"] == \"Insomnia\")]\n",
    "normal2 = sleep_df[(sleep_df[\"BMI Category\"] == \"Normal Weight\") &  \n",
    "                  (sleep_df[\"Sleep Disorder\"] == \"Insomnia\")]\n",
    "# Total normal rows               \n",
    "total_normal = len(sleep_df[sleep_df[\"BMI Category\"] == \"Normal\"])  \n",
    "# Calculate normal insomnia ratio               \n",
    "normal_insomnia_ratio = round(len(normal) / total_normal, 2) \n",
    "\n",
    "\n",
    "# Overweight\n",
    "# Filter the full dataframe to only rows where BMI Category is Overweight and Sleep Disorder is Insomnia.\n",
    "overweight = sleep_df[(sleep_df[\"BMI Category\"] == \"Overweight\") &   \n",
    "                      (sleep_df[\"Sleep Disorder\"] == \"Insomnia\")]  \n",
    "# Total overweight rows\n",
    "total_overweight = len(sleep_df[sleep_df[\"BMI Category\"] == \"Overweight\"])  \n",
    "# Calculate overweight insomnia ratio \n",
    "overweight_insomnia_ratio = round(len(overweight) / total_overweight, 2)\n",
    "\n",
    "\n",
    "# Obese\n",
    "# Filter the full dataframe to only rows where BMI Category is Obese and Sleep Disorder is Insomnia.\n",
    "obese = sleep_df[(sleep_df[\"BMI Category\"] == \"Obese\") &  \n",
    "                  (sleep_df[\"Sleep Disorder\"] == \"Insomnia\")]\n",
    "# Total obese rows          \n",
    "total_obese = len(sleep_df[sleep_df[\"BMI Category\"] == \"Obese\"])  \n",
    "# Calculate obese insomnia ratio\n",
    "obese_insomnia_ratio = round(len(obese) / total_obese, 2)"
   ]
  },
  {
   "cell_type": "code",
   "execution_count": 11,
   "id": "014e0ba2",
   "metadata": {},
   "outputs": [],
   "source": [
    "# Create dictionary to store the ratios for each BMI category \n",
    "bmi_insomnia_ratios = {\n",
    "    \"Normal\": normal_insomnia_ratio,  \n",
    "    \"Overweight\": overweight_insomnia_ratio,\n",
    "    \"Obese\": obese_insomnia_ratio \n",
    "}"
   ]
  },
  {
   "cell_type": "code",
   "execution_count": 12,
   "id": "114eafc5",
   "metadata": {},
   "outputs": [
    {
     "name": "stdout",
     "output_type": "stream",
     "text": [
      "The ratios of insomnia in each BMI category are:\n",
      "\n",
      "For Normal BMI: 0.04\n",
      "For Overweight BMI: 0.43\n",
      "For Obese BMI: 0.4\n"
     ]
    }
   ],
   "source": [
    "print(\"The ratios of insomnia in each BMI category are:\\n\")\n",
    "for category, ratio in bmi_insomnia_ratios.items():\n",
    "    print(f\"For {category} BMI: {ratio}\")"
   ]
  },
  {
   "cell_type": "code",
   "execution_count": null,
   "id": "4e914761",
   "metadata": {},
   "outputs": [],
   "source": []
  }
 ],
 "metadata": {
  "kernelspec": {
   "display_name": "python_all",
   "language": "python",
   "name": "python3"
  },
  "language_info": {
   "codemirror_mode": {
    "name": "ipython",
    "version": 3
   },
   "file_extension": ".py",
   "mimetype": "text/x-python",
   "name": "python",
   "nbconvert_exporter": "python",
   "pygments_lexer": "ipython3",
   "version": "3.10.18"
  }
 },
 "nbformat": 4,
 "nbformat_minor": 5
}
